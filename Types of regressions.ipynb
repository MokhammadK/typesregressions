{
 "cells": [
  {
   "cell_type": "code",
   "execution_count": 12,
   "id": "b2beebcc",
   "metadata": {},
   "outputs": [],
   "source": [
    "import pandas as pd\n",
    "import numpy as np\n",
    "from sklearn.linear_model import LinearRegression\n",
    "from sklearn.preprocessing import PolynomialFeatures\n",
    "import matplotlib.pyplot as plt"
   ]
  },
  {
   "cell_type": "code",
   "execution_count": 3,
   "id": "faae997b",
   "metadata": {},
   "outputs": [],
   "source": [
    "salaries = pd.read_csv(\"C:\\\\Users\\\\Bruger\\\\Downloads\\\\Position_Salaries.csv\")"
   ]
  },
  {
   "cell_type": "code",
   "execution_count": 4,
   "id": "6fcaf1e4",
   "metadata": {},
   "outputs": [
    {
     "name": "stdout",
     "output_type": "stream",
     "text": [
      "            Position  Level   Salary\n",
      "0   Business Analyst      1    45000\n",
      "1  Junior Consultant      2    50000\n",
      "2  Senior Consultant      3    60000\n",
      "3            Manager      4    80000\n",
      "4    Country Manager      5   110000\n",
      "5     Region Manager      6   150000\n",
      "6            Partner      7   200000\n",
      "7     Senior Partner      8   300000\n",
      "8            C-level      9   500000\n",
      "9                CEO     10  1000000\n"
     ]
    }
   ],
   "source": [
    "print(salaries)"
   ]
  },
  {
   "cell_type": "code",
   "execution_count": 7,
   "id": "34726033",
   "metadata": {},
   "outputs": [],
   "source": [
    "X = salaries.iloc[:, 1:2].values\n",
    "y = salaries.iloc[:, 2].values"
   ]
  },
  {
   "cell_type": "code",
   "execution_count": 8,
   "id": "abea789d",
   "metadata": {},
   "outputs": [],
   "source": [
    "poly_features = PolynomialFeatures(degree=3)\n",
    "X_poly = poly_features.fit_transform(X)"
   ]
  },
  {
   "cell_type": "code",
   "execution_count": null,
   "id": "7bc6f186",
   "metadata": {},
   "outputs": [],
   "source": [
    "poly_regression = LinearRegression()\n",
    "poly_regression.fit(X_poly, y)"
   ]
  },
  {
   "cell_type": "code",
   "execution_count": 13,
   "id": "63328310",
   "metadata": {},
   "outputs": [
    {
     "data": {
      "image/png": "[encoded data removed]",
      "text/plain": [
       "<Figure size 640x480 with 1 Axes>"
      ]
     },
     "metadata": {},
     "output_type": "display_data"
    }
   ],
   "source": [
    "plt.scatter(X, y, color='red')\n",
    "plt.plot(X, poly_regression.predict(poly_features.transform(X)), color='blue')\n",
    "plt.xlabel('Level')\n",
    "plt.ylabel('Salary')\n",
    "plt.title('Polynomial Regression')\n",
    "plt.show()"
   ]
  },
  {
   "cell_type": "code",
   "execution_count": 20,
   "id": "09aeba80",
   "metadata": {},
   "outputs": [],
   "source": [
    "import pandas as pd\n",
    "from sklearn.model_selection import cross_val_score\n",
    "from sklearn.linear_model import Ridge, Lasso, ElasticNet\n",
    "from sklearn.preprocessing import StandardScaler"
   ]
  },
  {
   "cell_type": "code",
   "execution_count": 27,
   "id": "dd60cac1",
   "metadata": {},
   "outputs": [],
   "source": [
    "communities = pd.read_csv(\"C:\\\\Users\\\\Bruger\\\\Downloads\\\\communities.csv\")\n"
   ]
  },
  {
   "cell_type": "code",
   "execution_count": 28,
   "id": "e2678cde",
   "metadata": {},
   "outputs": [],
   "source": [
    "numeric_columns = communities.select_dtypes(include=['float64', 'int64'])\n",
    "numeric_columns = numeric_columns.fillna(numeric_columns.mean())"
   ]
  },
  {
   "cell_type": "code",
   "execution_count": 29,
   "id": "2a0426f5",
   "metadata": {},
   "outputs": [],
   "source": [
    "X = numeric_columns.iloc[:, :-1].values\n",
    "y = numeric_columns.iloc[:, -1].values"
   ]
  },
  {
   "cell_type": "code",
   "execution_count": 30,
   "id": "51d90d8d",
   "metadata": {},
   "outputs": [],
   "source": [
    "scaler = StandardScaler()\n",
    "X_scaled = scaler.fit_transform(X)"
   ]
  },
  {
   "cell_type": "code",
   "execution_count": 31,
   "id": "bea1de44",
   "metadata": {},
   "outputs": [],
   "source": [
    "ridge_scores = cross_val_score(Ridge(), X_scaled, y, cv=5)\n",
    "lasso_scores = cross_val_score(Lasso(), X_scaled, y, cv=5)\n",
    "elasticnet_scores = cross_val_score(ElasticNet(), X_scaled, y, cv=5)"
   ]
  },
  {
   "cell_type": "code",
   "execution_count": 32,
   "id": "45bc8929",
   "metadata": {},
   "outputs": [
    {
     "name": "stdout",
     "output_type": "stream",
     "text": [
      "Ridge Mean Score: 0.6530416013303052\n",
      "Lasso Mean Score: -0.0032712089233966958\n",
      "ElasticNet Mean Score: -0.0032712089233966958\n"
     ]
    }
   ],
   "source": [
    "print(\"Ridge Mean Score:\", ridge_scores.mean())\n",
    "print(\"Lasso Mean Score:\", lasso_scores.mean())\n",
    "print(\"ElasticNet Mean Score:\", elasticnet_scores.mean())"
   ]
  },
  {
   "cell_type": "code",
   "execution_count": null,
   "id": "3597ca98",
   "metadata": {},
   "outputs": [],
   "source": [
    "# Модель з регуляризацією Ridge має найкращу середню оцінку, що свідчить про її кращу ефективність в порівнянні з Lasso та ElasticNet.\n",
    "# Моделі Lasso та ElasticNet мають від'ємні середні оцінки, що може свідчити про недостатню адаптацію моделі до даних або вплив особливостей даного набору даних на використані методи регуляризації."
   ]
  }
 ],
 "metadata": {
  "kernelspec": {
   "display_name": "Python 3 (ipykernel)",
   "language": "python",
   "name": "python3"
  },
  "language_info": {
   "codemirror_mode": {
    "name": "ipython",
    "version": 3
   },
   "file_extension": ".py",
   "mimetype": "text/x-python",
   "name": "python",
   "nbconvert_exporter": "python",
   "pygments_lexer": "ipython3",
   "version": "3.9.13"
  }
 },
 "nbformat": 4,
 "nbformat_minor": 5
}
